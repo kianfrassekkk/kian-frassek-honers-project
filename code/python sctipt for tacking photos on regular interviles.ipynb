{
 "cells": [
  {
   "cell_type": "markdown",
   "metadata": {},
   "source": [
    "globale inportes and veriables"
   ]
  },
  {
   "cell_type": "code",
   "execution_count": 1,
   "metadata": {},
   "outputs": [],
   "source": [
    "import cv2\n",
    "import os\n",
    "import time\n",
    "\n",
    "\n",
    "import pytesseract\n",
    "pytesseract.pytesseract.tesseract_cmd = 'C:/Users/kianf/AppData/Local/Programs/Tesseract-OCR/tesseract.exe'\n",
    "from PIL import Image\n",
    "import os\n",
    "import numpy as np\n",
    "\n",
    "\n",
    "grid_size = 40  # Grid size\n",
    "move_up = 30  # Number of times to move up\n",
    "wait_time = 2000  # Wait time in milliseconds\n",
    "increment = 10  # Distance between each move\n",
    "\n",
    "\n",
    "\n",
    "\n",
    "\n",
    "number=(((grid_size// increment)+1) * ((grid_size// increment)+1) * ((move_up// increment)+1) )\n",
    "\n",
    "\n",
    "\n",
    "\n"
   ]
  },
  {
   "cell_type": "markdown",
   "metadata": {},
   "source": [
    "Image tacking functions"
   ]
  },
  {
   "cell_type": "code",
   "execution_count": 2,
   "metadata": {},
   "outputs": [],
   "source": [
    "\n",
    "\n",
    "def setup_camera():\n",
    "    # Create a VideoCapture object\n",
    "    cap = cv2.VideoCapture(0)\n",
    "    \n",
    "    # Check if the camera opened successfully\n",
    "    if not cap.isOpened():\n",
    "        print(\"Error: Could not open camera.\")\n",
    "        cap = None\n",
    "        \n",
    "    return cap\n",
    "\n",
    "\n",
    "def take_image(cap, image_num):    \n",
    "    # Capture a single frame\n",
    "    ret, frame = cap.read()\n",
    "\n",
    "    if ret:\n",
    "        # Create the directory if it doesn't exist\n",
    "        if not os.path.exists('images'):\n",
    "            os.makedirs('images')\n",
    "\n",
    "        # Save the captured frame to the 'images' directory\n",
    "        cv2.imwrite(os.path.join('images', 'captured_image_'+str(image_num)+'.jpg'), frame)\n",
    "        print(f\"Image saved to 'captured_image_{image_num}.jpg'.\")\n",
    "    else:\n",
    "        print(\"Error: Could not read frame.\")\n",
    "        frame = None\n",
    "    \n",
    "    return frame\n",
    "\n",
    "\n",
    "   \n",
    "\n",
    "\n",
    "\n"
   ]
  },
  {
   "cell_type": "markdown",
   "metadata": {},
   "source": [
    "take image every set time interval"
   ]
  },
  {
   "cell_type": "code",
   "execution_count": 3,
   "metadata": {},
   "outputs": [],
   "source": [
    "import winsound  # Add this import for playing sound on Windows\n",
    "\n",
    "def take_images_at_intervals(cap, num_images, move_time, wait_time):\n",
    "    start_time = time.time()  # Reset start time for the next iteration\n",
    "    for i in range(num_images):\n",
    "        \n",
    "    \n",
    "        \n",
    "        take_image(cap, i)  # Removed the unused 'frame' variable\n",
    "        # Make a bing sound\n",
    "        duration = 10  # milliseconds\n",
    "        freq = 440  # Hz\n",
    "        winsound.Beep(freq, duration)  # Use winsound.Beep for cross-platform compatibility\n",
    "\n",
    "        # Wait before taking the next image\n",
    "        elapsed_time = time.time() - start_time\n",
    "        sleep_time = max(0, (((wait_time)+ move_time)  / 1000.0) - elapsed_time)\n",
    "        time.sleep(sleep_time)\n",
    "        start_time = time.time()  # Reset start time for the next iteration\n",
    "\n",
    "    print(\"Finished taking images.\")\n",
    "\n",
    "# Example usage:\n",
    "cap = setup_camera()  # Ensure the camera is set up\n",
    "\n"
   ]
  },
  {
   "cell_type": "code",
   "execution_count": 4,
   "metadata": {},
   "outputs": [
    {
     "name": "stdout",
     "output_type": "stream",
     "text": [
      "Image saved to 'captured_image_0.jpg'.\n",
      "Image saved to 'captured_image_1.jpg'.\n",
      "Image saved to 'captured_image_2.jpg'.\n",
      "Image saved to 'captured_image_3.jpg'.\n"
     ]
    },
    {
     "ename": "KeyboardInterrupt",
     "evalue": "",
     "output_type": "error",
     "traceback": [
      "\u001b[1;31m---------------------------------------------------------------------------\u001b[0m",
      "\u001b[1;31mKeyboardInterrupt\u001b[0m                         Traceback (most recent call last)",
      "Cell \u001b[1;32mIn[4], line 1\u001b[0m\n\u001b[1;32m----> 1\u001b[0m \u001b[43mtake_images_at_intervals\u001b[49m\u001b[43m(\u001b[49m\u001b[43mcap\u001b[49m\u001b[43m,\u001b[49m\u001b[43m \u001b[49m\u001b[43mnumber\u001b[49m\u001b[38;5;241;43m+\u001b[39;49m\u001b[38;5;241;43m1\u001b[39;49m\u001b[43m,\u001b[49m\u001b[43m \u001b[49m\u001b[38;5;241;43m1200\u001b[39;49m\u001b[43m,\u001b[49m\u001b[43m \u001b[49m\u001b[38;5;241;43m5000\u001b[39;49m\u001b[43m)\u001b[49m\n",
      "Cell \u001b[1;32mIn[3], line 18\u001b[0m, in \u001b[0;36mtake_images_at_intervals\u001b[1;34m(cap, num_images, move_time, wait_time)\u001b[0m\n\u001b[0;32m     16\u001b[0m     elapsed_time \u001b[38;5;241m=\u001b[39m time\u001b[38;5;241m.\u001b[39mtime() \u001b[38;5;241m-\u001b[39m start_time\n\u001b[0;32m     17\u001b[0m     sleep_time \u001b[38;5;241m=\u001b[39m \u001b[38;5;28mmax\u001b[39m(\u001b[38;5;241m0\u001b[39m, (((wait_time)\u001b[38;5;241m+\u001b[39m move_time)  \u001b[38;5;241m/\u001b[39m \u001b[38;5;241m1000.0\u001b[39m) \u001b[38;5;241m-\u001b[39m elapsed_time)\n\u001b[1;32m---> 18\u001b[0m     \u001b[43mtime\u001b[49m\u001b[38;5;241;43m.\u001b[39;49m\u001b[43msleep\u001b[49m\u001b[43m(\u001b[49m\u001b[43msleep_time\u001b[49m\u001b[43m)\u001b[49m\n\u001b[0;32m     19\u001b[0m     start_time \u001b[38;5;241m=\u001b[39m time\u001b[38;5;241m.\u001b[39mtime()  \u001b[38;5;66;03m# Reset start time for the next iteration\u001b[39;00m\n\u001b[0;32m     21\u001b[0m \u001b[38;5;28mprint\u001b[39m(\u001b[38;5;124m\"\u001b[39m\u001b[38;5;124mFinished taking images.\u001b[39m\u001b[38;5;124m\"\u001b[39m)\n",
      "\u001b[1;31mKeyboardInterrupt\u001b[0m: "
     ]
    }
   ],
   "source": [
    "take_images_at_intervals(cap, number+1, 1200, 5000)"
   ]
  },
  {
   "cell_type": "code",
   "execution_count": 11,
   "metadata": {},
   "outputs": [],
   "source": [
    "cap.release()  # Release the camera when done"
   ]
  },
  {
   "cell_type": "markdown",
   "metadata": {},
   "source": [
    "print resaltes"
   ]
  }
 ],
 "metadata": {
  "kernelspec": {
   "display_name": "Python 3",
   "language": "python",
   "name": "python3"
  },
  "language_info": {
   "codemirror_mode": {
    "name": "ipython",
    "version": 3
   },
   "file_extension": ".py",
   "mimetype": "text/x-python",
   "name": "python",
   "nbconvert_exporter": "python",
   "pygments_lexer": "ipython3",
   "version": "3.12.2"
  }
 },
 "nbformat": 4,
 "nbformat_minor": 2
}
