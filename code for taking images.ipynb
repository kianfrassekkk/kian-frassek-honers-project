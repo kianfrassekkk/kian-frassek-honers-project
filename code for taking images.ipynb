{
 "cells": [
  {
   "cell_type": "markdown",
   "metadata": {},
   "source": [
    "globale inportes and veriables"
   ]
  },
  {
   "cell_type": "code",
   "execution_count": 57,
   "metadata": {},
   "outputs": [],
   "source": [
    "import cv2\n",
    "import os\n",
    "import time\n",
    "\n",
    "\n",
    "import pytesseract\n",
    "pytesseract.pytesseract.tesseract_cmd = 'C:/Users/kianf/AppData/Local/Programs/Tesseract-OCR/tesseract.exe'\n",
    "from PIL import Image\n",
    "import os\n",
    "import numpy as np\n",
    "\n",
    "\n",
    "grid_size = 40  # Grid size\n",
    "move_up = 30  # Number of times to move up\n",
    "wait_time = 1000  # Wait time in milliseconds\n",
    "increment = 2  # Distance between each move\n",
    "\n",
    "\n",
    "data_1d = np.empty(((grid_size * grid_size * move_up) // increment), dtype=object)  # Create a 1D array to hold strings\n",
    "\n",
    "# Create a 3D array with dimensions (move_up, grid_size, grid_size)\n",
    "Data_3d = np.zeros((int(move_up/increment), int(grid_size/increment), int(grid_size/increment)))\n",
    "\n",
    "\n",
    "\n"
   ]
  },
  {
   "cell_type": "markdown",
   "metadata": {},
   "source": [
    "Image tacking functions"
   ]
  },
  {
   "cell_type": "code",
   "execution_count": 59,
   "metadata": {},
   "outputs": [
    {
     "name": "stdout",
     "output_type": "stream",
     "text": [
      "Image loaded successfully.\n",
      "Cropped image saved to 'cropped_image_0.jpg'.\n",
      "Black and white image saved to 'black_and_white_0.jpg'.\n",
      "Blur image saved to 'blur_image_0.jpg'.\n",
      "Thresholded image saved to 'thresholded_image_0.jpg'.\n"
     ]
    },
    {
     "data": {
      "text/plain": [
       "'45.7 '"
      ]
     },
     "metadata": {},
     "output_type": "display_data"
    },
    {
     "data": {
      "text/plain": [
       "'4. '"
      ]
     },
     "metadata": {},
     "output_type": "display_data"
    },
    {
     "data": {
      "text/plain": [
       "'9. '"
      ]
     },
     "metadata": {},
     "output_type": "display_data"
    },
    {
     "data": {
      "text/plain": [
       "''"
      ]
     },
     "metadata": {},
     "output_type": "display_data"
    }
   ],
   "source": [
    "\n",
    "\n",
    "def setup_camera():\n",
    "    # Create a VideoCapture object\n",
    "    cap = cv2.VideoCapture(0)\n",
    "    \n",
    "    # Check if the camera opened successfully\n",
    "    if not cap.isOpened():\n",
    "        print(\"Error: Could not open camera.\")\n",
    "        cap = None\n",
    "        \n",
    "    return cap\n",
    "\n",
    "\n",
    "def take_image(cap, image_num):    \n",
    "    # Capture a single frame\n",
    "    ret, frame = cap.read()\n",
    "\n",
    "    if ret:\n",
    "        # Create the directory if it doesn't exist\n",
    "        if not os.path.exists('images'):\n",
    "            os.makedirs('images')\n",
    "\n",
    "        # Save the captured frame to the 'images' directory\n",
    "        cv2.imwrite(os.path.join('images', 'captured_image_'+str(image_num)+'.jpg'), frame)\n",
    "        print(f\"Image saved to 'captured_image_{image_num}.jpg'.\")\n",
    "    else:\n",
    "        print(\"Error: Could not read frame.\")\n",
    "        frame = None\n",
    "    \n",
    "    return frame\n",
    "\n",
    "\n",
    "def sharpen_image(image):\n",
    "    kernel = np.array([[0, -1, 0], [-1, 5,-1], [0, -1, 0]])\n",
    "    sharpened = cv2.filter2D(image, -1, kernel)\n",
    "    return sharpened\n",
    "\n",
    "def crop_image(image, x, y, w, h):\n",
    "    cropped = image[y:y+h, x:x+w]\n",
    "    return cropped\n",
    "\n",
    "def rotate_image(image, angle):\n",
    "    (h, w) = image.shape[:2]\n",
    "    center = (w // 2, h // 2)\n",
    "    M = cv2.getRotationMatrix2D(center, angle, 1.0)\n",
    "    rotated = cv2.warpAffine(image, M, (w, h))\n",
    "    return rotated\n",
    "\n",
    "def convert_to_grayscale(image):\n",
    "    grayscale = cv2.cvtColor(image, cv2.COLOR_BGR2GRAY)\n",
    "    return grayscale\n",
    "    \n",
    "    \n",
    "    # Load the first captured image\n",
    "image_path = os.path.join('images', 'captured_image_0.jpg')\n",
    "image = cv2.imread(image_path)\n",
    "\n",
    "def print_pixel_values(image):\n",
    "    \"\"\"\n",
    "    Print the pixel values of a black and white image.\n",
    "    \n",
    "    Parameters:\n",
    "    image (numpy.ndarray): The black and white image.\n",
    "    \"\"\"\n",
    "    for row in image:\n",
    "        for pixel in row:\n",
    "            print(pixel, end=' ')\n",
    "        print()\n",
    "\n",
    "def threshold_image(image, threshold_value):\n",
    "    \n",
    "    # Apply the threshold\n",
    "    _, thresholded = cv2.threshold(image, threshold_value, 255, cv2.THRESH_BINARY)\n",
    "    return thresholded\n",
    "\n",
    "def blur_image(image):\n",
    "    blurred = cv2.GaussianBlur(image, (1, 17), 0)\n",
    "    return blurred\n",
    "\n",
    "\n",
    "# Check if the image was loaded successfully\n",
    "if image is not None:\n",
    "    # Define the crop parameters (x, y, width, height)\n",
    "    print(\"Image loaded successfully.\")\n",
    "    x, y, w, h = 260, 50, 260, 70\n",
    "    cropped_image = crop_image(image, x, y, w, h)\n",
    "    # sharpened_image = sharpen_image(cropped_image)\n",
    "    black_and_white = convert_to_grayscale(cropped_image)\n",
    "\n",
    "    blur_image = blur_image(black_and_white)\n",
    "    \n",
    "    \n",
    "    threshold_value = 130\n",
    "    thresholded_image = threshold_image(black_and_white, threshold_value)\n",
    "\n",
    "\n",
    "\n",
    "        \n",
    "    # Save the cropped image\n",
    "    cropped_image_path = os.path.join('images', 'cropped_image_0.jpg')\n",
    "    cv2.imwrite(cropped_image_path, cropped_image)\n",
    "    print(f\"Cropped image saved to 'cropped_image_0.jpg'.\")\n",
    "\n",
    "    \n",
    "\n",
    "    # Save the black and white image\n",
    "    black_and_white_path = os.path.join('images', 'black_and_white_0.jpg')\n",
    "    cv2.imwrite(black_and_white_path, black_and_white)\n",
    "    print(f\"Black and white image saved to 'black_and_white_0.jpg'.\")\n",
    "\n",
    "    blur_image_path = os.path.join('images', 'blur_image_0.jpg')\n",
    "    cv2.imwrite(blur_image_path, blur_image)\n",
    "    print(f\"Blur image saved to 'blur_image_0.jpg'.\")\n",
    "\n",
    "        # Save the thresholded image\n",
    "    thresholded_image_path = os.path.join('images', 'thresholded_image_0.jpg')\n",
    "    cv2.imwrite(thresholded_image_path, thresholded_image)\n",
    "    print(f\"Thresholded image saved to 'thresholded_image_0.jpg'.\")    \n",
    "else:\n",
    "    print(\"Error: Could not load image.\")\n",
    "\n",
    "\n",
    "\n",
    "\n",
    "display(image_to_text(cropped_image_path))\n",
    "display(image_to_text(black_and_white_path))\n",
    "display(image_to_text(blur_image_path))\n",
    "display(image_to_text(thresholded_image_path))\n",
    "\n",
    "\n"
   ]
  },
  {
   "cell_type": "markdown",
   "metadata": {},
   "source": [
    "image to text functions"
   ]
  },
  {
   "cell_type": "code",
   "execution_count": 50,
   "metadata": {},
   "outputs": [],
   "source": [
    "\n",
    "\n",
    "def image_to_text(image_path):\n",
    "    \"\"\"\n",
    "    Extract text from an image using Tesseract OCR.\n",
    "    \n",
    "    Parameters:\n",
    "    image_path (str): The path to the image file.\n",
    "    \n",
    "    Returns:\n",
    "    str: The extracted text.\n",
    "    \"\"\"\n",
    "    # Open the image file\n",
    "    img = Image.open(image_path)\n",
    "    \n",
    "    # Use pytesseract to do OCR on the image\n",
    "    \n",
    "    text = pytesseract.image_to_string(img, config='--psm 7 -c tessedit_char_whitelist=0123456789.- ')\n",
    "    text = text.replace('\\n', ' ')\n",
    "    return text\n",
    "\n",
    "def get_data(image_num):\n",
    "    image_path = os.path.join('images', 'captured_image_'+str(image_num)+'.jpg')\n",
    "    extracted_text = image_to_text(image_path)\n",
    "    return extracted_text\n"
   ]
  },
  {
   "cell_type": "markdown",
   "metadata": {},
   "source": [
    "fill array function"
   ]
  },
  {
   "cell_type": "code",
   "execution_count": 51,
   "metadata": {},
   "outputs": [],
   "source": [
    "def fill_data2D():\n",
    "    for i in range(0, len(data_1d)):\n",
    "        image_num = i\n",
    "        extracted_text = get_data(image_num)\n",
    "        data_1d[i] = extracted_text\n",
    "        print(data_1d[i])\n",
    "\n",
    "\n"
   ]
  },
  {
   "cell_type": "markdown",
   "metadata": {},
   "source": [
    "set up camrer"
   ]
  },
  {
   "cell_type": "code",
   "execution_count": 52,
   "metadata": {},
   "outputs": [],
   "source": [
    "num_images = 5  # Number of images to capture\n",
    "cap = setup_camera()"
   ]
  },
  {
   "cell_type": "markdown",
   "metadata": {},
   "source": [
    "take image every set time interval"
   ]
  },
  {
   "cell_type": "code",
   "execution_count": 53,
   "metadata": {},
   "outputs": [],
   "source": [
    "# def take_images_every_second(cap, num_images):\n",
    "#     start_time = time.time()\n",
    "#     for i in range(num_images):\n",
    "#         frame = take_image(cap, i)\n",
    "#         data_1d[i-1]= get_data(i)\n",
    "#         end_time= time.time()\n",
    "#         elapsed_time = end_time - start_time\n",
    "#         sleep_time = max(0, 1 - elapsed_time)\n",
    "#         time.sleep(sleep_time)\n",
    "#         print(f\" time: {elapsed_time:.2f} seconds\")\n",
    "#         start_time = time.time()  # Reset start time for the next iteration\n",
    "\n",
    "# # Example usage\n",
    "\n",
    "\n",
    "\n",
    "\n",
    "# take_images_every_second(cap, num_images)\n"
   ]
  },
  {
   "cell_type": "markdown",
   "metadata": {},
   "source": [
    "print resaltes"
   ]
  },
  {
   "cell_type": "code",
   "execution_count": 54,
   "metadata": {},
   "outputs": [],
   "source": []
  }
 ],
 "metadata": {
  "kernelspec": {
   "display_name": "Python 3",
   "language": "python",
   "name": "python3"
  },
  "language_info": {
   "codemirror_mode": {
    "name": "ipython",
    "version": 3
   },
   "file_extension": ".py",
   "mimetype": "text/x-python",
   "name": "python",
   "nbconvert_exporter": "python",
   "pygments_lexer": "ipython3",
   "version": "3.12.2"
  }
 },
 "nbformat": 4,
 "nbformat_minor": 2
}
